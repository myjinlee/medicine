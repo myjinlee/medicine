{
  "nbformat": 4,
  "nbformat_minor": 0,
  "metadata": {
    "colab": {
      "provenance": [],
      "mount_file_id": "1zLvc_65RUW26dF8p8_wDMFue4gbx-Sm6",
      "authorship_tag": "ABX9TyNHAUaDuCajUru/ei85rtAn",
      "include_colab_link": true
    },
    "kernelspec": {
      "name": "python3",
      "display_name": "Python 3"
    },
    "language_info": {
      "name": "python"
    }
  },
  "cells": [
    {
      "cell_type": "markdown",
      "metadata": {
        "id": "view-in-github",
        "colab_type": "text"
      },
      "source": [
        "<a href=\"https://colab.research.google.com/github/myjinlee/medicine/blob/main/medicine.ipynb\" target=\"_parent\"><img src=\"https://colab.research.google.com/assets/colab-badge.svg\" alt=\"Open In Colab\"/></a>"
      ]
    },
    {
      "cell_type": "code",
      "execution_count": 6,
      "metadata": {
        "colab": {
          "base_uri": "https://localhost:8080/"
        },
        "id": "-BfrfWddFsnQ",
        "outputId": "43c66b24-11d6-4741-be23-31a2a7130996"
      },
      "outputs": [
        {
          "output_type": "stream",
          "name": "stdout",
          "text": [
            "<OpenAPI_ServiceResponse>\n",
            "\t<cmmMsgHeader>\n",
            "\t\t<errMsg>SERVICE ERROR</errMsg>\n",
            "\t\t<returnAuthMsg>SERVICE_KEY_IS_NOT_REGISTERED_ERROR</returnAuthMsg>\n",
            "\t\t<returnReasonCode>30</returnReasonCode>\n",
            "\t</cmmMsgHeader>\n",
            "</OpenAPI_ServiceResponse>\n"
          ]
        }
      ],
      "source": [
        "import requests\n",
        "\n",
        "url = 'http://apis.data.go.kr/1471000/DrbEasyDrugInfoService/getDrbEasyDrugList?key=K6Zj9RGTDHaWjlij3LpS42K9fPda1AglJ7EIifl7lgHL/LhajztGQTZv9VH0iDorLTFrMs1LIBqszxS9pN0MAA=='\n",
        "#params ={'serviceKey' : 'K6Zj9RGTDHaWjlij3LpS42K9fPda1AglJ7EIifl7lgHL/LhajztGQTZv9VH0iDorLTFrMs1LIBqszxS9pN0MAA==', 'pageNo' : '1', 'numOfRows' : '3', 'entpName' : '', 'itemName' : '', 'itemSeq' : '', 'efcyQesitm' : '', 'useMethodQesitm' : '', 'atpnWarnQesitm' : '', 'atpnQesitm' : '', 'intrcQesitm' : '', 'seQesitm' : '', 'depositMethodQesitm' : '', 'openDe' : '', 'updateDe' : '', 'type' : 'xml' }\n",
        "\n",
        "r = requests.get(url)\n",
        "print(r.content.decode('utf-8'))"
      ]
    }
  ]
}