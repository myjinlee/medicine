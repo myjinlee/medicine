{
  "nbformat": 4,
  "nbformat_minor": 0,
  "metadata": {
    "colab": {
      "provenance": [],
      "mount_file_id": "1zLvc_65RUW26dF8p8_wDMFue4gbx-Sm6",
      "authorship_tag": "ABX9TyNDXxfd8Y6RP1wYIOiusLrR",
      "include_colab_link": true
    },
    "kernelspec": {
      "name": "python3",
      "display_name": "Python 3"
    },
    "language_info": {
      "name": "python"
    }
  },
  "cells": [
    {
      "cell_type": "markdown",
      "metadata": {
        "id": "view-in-github",
        "colab_type": "text"
      },
      "source": [
        "<a href=\"https://colab.research.google.com/github/myjinlee/medicine/blob/main/medicine.ipynb\" target=\"_parent\"><img src=\"https://colab.research.google.com/assets/colab-badge.svg\" alt=\"Open In Colab\"/></a>"
      ]
    },
    {
      "cell_type": "code",
      "execution_count": 29,
      "metadata": {
        "colab": {
          "base_uri": "https://localhost:8080/"
        },
        "id": "-BfrfWddFsnQ",
        "outputId": "3d4c12b8-34b6-4650-d466-ae7912d6e520"
      },
      "outputs": [
        {
          "output_type": "stream",
          "name": "stdout",
          "text": [
            "<?xml version=\"1.0\" encoding=\"UTF-8\"?>\n",
            "<response>\n",
            "<header>\n",
            "<resultCode>00</resultCode>\n",
            "<resultMsg>NORMAL SERVICE.</resultMsg>\n",
            "</header>\n",
            "<body>\n",
            "<numOfRows>3</numOfRows>\n",
            "<pageNo>1</pageNo>\n",
            "<totalCount>4671</totalCount>\n",
            "<items>\n",
            "<item>\n",
            "<entpName>동화약품(주)</entpName>\n",
            "<itemName>활명수</itemName>\n",
            "<itemSeq>195700020</itemSeq>\n",
            "<efcyQesitm>이 약은 식욕감퇴(식욕부진), 위부팽만감, 소화불량, 과식, 체함, 구역, 구토에 사용합니다.\n",
            "</efcyQesitm>\n",
            "<useMethodQesitm>만 15세 이상 및 성인은 1회 1병(75 mL), 만 11세이상~만 15세미만은 1회 2/3병(50 mL), 만 8세 이상~만 11세 미만은 1회 1/2병(37.5 mL), 만 5세 이상~만 8세 미만은 1회 1/3병(25 mL), 만 3세 이상~만 5세 미만은 1회 1/4병(18.75 mL), 만 1세 이상~만 3세 미만은 1회 1/5병(15 mL), 1일 3회 식후에 복용합니다. 복용간격은 4시간 이상으로 합니다.\n",
            "</useMethodQesitm>\n",
            "<atpnWarnQesitm/>\n",
            "<atpnQesitm>만 3개월 미만의 젖먹이는 이 약을 복용하지 마십시오.\n",
            "\n",
            "이 약을 복용하기 전에 만 1세 미만의 젖먹이, 임부 또는 임신하고 있을 가능성이 있는 여성, 카라멜에 과민증 환자 또는 경험자, 나트륨 제한 식이를 하는 사람은 의사 또는 약사와 상의하십시오.\n",
            "\n",
            "정해진 용법과 용량을 잘 지키십시오.\n",
            "\n",
            "어린이에게 투여할 경우 보호자의 지도 감독하에 투여하십시오.\n",
            "\n",
            "1개월 정도 복용하여도 증상의 개선이 없을 경우 복용을 즉각 중지하고 의사 또는 약사와 상의하십시오.\n",
            "</atpnQesitm>\n",
            "<intrcQesitm/>\n",
            "<seQesitm/>\n",
            "<depositMethodQesitm>습기와 빛을 피해 실온에서 보관하십시오.\n",
            "\n",
            "어린이의 손이 닿지 않는 곳에 보관하십시오.\n",
            "</depositMethodQesitm>\n",
            "<openDe>2021-01-29 00:00:00</openDe>\n",
            "<updateDe>2024-01-11</updateDe>\n",
            "<itemImage/>\n",
            "<bizrno>1108100102</bizrno>\n",
            "</item>\n",
            "<item>\n",
            "<entpName>신신제약(주)</entpName>\n",
            "<itemName>신신티눈고(살리실산반창고)(수출명:SINSINCORNPLASTER)</itemName>\n",
            "<itemSeq>195900034</itemSeq>\n",
            "<efcyQesitm>이 약은 티눈, 못(굳은살), 사마귀에 사용합니다. \n",
            "</efcyQesitm>\n",
            "<useMethodQesitm>이형지로부터 벗겨 이 약제면을 환부(질환 부위)에 대고 테이프로 고정하고 2~5일마다 교체하여 붙입니다.\n",
            "</useMethodQesitm>\n",
            "<atpnWarnQesitm/>\n",
            "<atpnQesitm>이 약에 과민증 환자, 당뇨병, 혈액순환장애 환자는 이 약을 사용하지 마십시오.\n",
            "\n",
            "눈 주위, 점막, 감염, 염증, 발적(충혈되어 붉어짐), 자극이 있는 부위, 점, 태어날 때부터 있는 점 또는 사마귀, 털이 있는 사마귀, 생식기 부위의 사마귀에 사용하지 마십시오.\n",
            "\n",
            "이 약을 사용하기 전에 영아 및 유아, 약 또는 화장품에 과민증 환자, 신부전 환자, 임부 또는 임신하고 있을 가능성이 있는 여성 및 수유부는 의사 또는 약사와 상의하십시오.\n",
            "\n",
            "정해진 용법과 용량을 잘 지키십시오.\n",
            "\n",
            "화농(곪음)성피부염, 습윤(습기 참), 미란(짓무름)의 경우 이를 미리 치료한 후 이 약을 적용하십시오.\n",
            "\n",
            "이 약을 붙인 채로 물 속에 들어가는 경우에는 약고가 녹아서 없어질 수 있으므로 주의하십시오.\n",
            "\n",
            "어린이에게 투여할 경우 보호자의 지도 감독하에 투여하십시오.\n",
            "\n",
            "이 약은 외용으로만 사용하십시오.\n",
            "\n",
            "눈, 코, 입 및 다른 점막에 닿지 않도록 주의하여 적용하고, 만일 눈에 들어갔을 경우 충분한 양의 물로 완전히 씻어내십시오.\n",
            "\n",
            "환부(질환 부위) 이외의 피부에 닿지 않도록 주의하십시오.\n",
            "</atpnQesitm>\n",
            "<intrcQesitm>메토트렉세이트, 설포닐우레아, 다른 국소 적용 약물과 함께 사용 시 의사 또는 약사와 상의하십시오.\n",
            "</intrcQesitm>\n",
            "<seQesitm>발진, 발적(충혈되어 붉어짐), 홍반(붉은 반점), 가려움, 정상 피부에 닿았을 경우 국소 자극 반응이 나타나는 경우 사용을 즉각 중지하고 의사 또는 약사와 상의하십시오.\n",
            "\n",
            "드물게 피부자극, 접촉성 알레르기 반응 등이 나타날 수 있습니다.\n",
            "</seQesitm>\n",
            "<depositMethodQesitm>습기와 빛을 피해 보관하십시오.\n",
            "\n",
            "어린이의 손이 닿지 않는 곳에 보관하십시오.\n",
            "</depositMethodQesitm>\n",
            "<openDe>2021-01-29 00:00:00</openDe>\n",
            "<updateDe>2021-11-25</updateDe>\n",
            "<itemImage/>\n",
            "<bizrno>1188104136</bizrno>\n",
            "</item>\n",
            "<item>\n",
            "<entpName>삼진제약(주)</entpName>\n",
            "<itemName>아네모정</itemName>\n",
            "<itemSeq>195900043</itemSeq>\n",
            "<efcyQesitm>이 약은 위산과다, 속쓰림, 위부불쾌감, 위부팽만감, 체함, 구역, 구토, 위통, 신트림에 사용합니다.</efcyQesitm>\n",
            "<useMethodQesitm>성인 1회 2정, 1일 3회 식간(식사와 식사때 사이) 및 취침시에 복용합니다.</useMethodQesitm>\n",
            "<atpnWarnQesitm/>\n",
            "<atpnQesitm>투석요법을 받고 있는 환자, 수유부, 만 7세 이하의 어린이, 갈락토오스 불내성, Lapp 유당분해효소 결핍증 또는 포도당-갈락토오스 흡수장애 등의 유전적인 문제가 있는 환자는 이 약을 복용하지 마십시오.이 약을 복용하기 전에 이 약에 과민증 환자, 알레르기 체질, 알레르기 증상(발진, 충혈되어 붉어짐, 가려움 등) 경험자, 신장장애 환자, 임부 또는 임신하고 있을 가능성이 있는 여성, 나트륨 제한 식이를 하는 사람은 의사 또는 약사와 상의하십시오.정해진 용법과 용량을 잘 지키십시오.</atpnQesitm>\n",
            "<intrcQesitm>위장진통ㆍ진경제, 테트라사이클린계 항생제와 함께 복용하지 마십시오.</intrcQesitm>\n",
            "<seQesitm>발진, 충혈되어 붉어짐, 가려움, 드물게 입이 마르는 증상, 변비 또는 설사 등이 나타나는 경우 복용을 즉각 중지하고 의사 또는 약사와 상의하십시오.</seQesitm>\n",
            "<depositMethodQesitm>습기와 빛을 피해 보관하십시오.어린이의 손이 닿지 않는 곳에 보관하십시오.</depositMethodQesitm>\n",
            "<openDe>2021-01-29 00:00:00</openDe>\n",
            "<updateDe>2021-01-29</updateDe>\n",
            "<itemImage>https://nedrug.mfds.go.kr/pbp/cmn/itemImageDownload/152035092098000085</itemImage>\n",
            "<bizrno>1248531621</bizrno>\n",
            "</item>\n",
            "</items>\n",
            "</body>\n",
            "</response>\n",
            "\n"
          ]
        }
      ],
      "source": [
        "import requests\n",
        "\n",
        "url = 'http://apis.data.go.kr/1471000/DrbEasyDrugInfoService/getDrbEasyDrugList'\n",
        "params ={'serviceKey' : 'K6Zj9RGTDHaWjlij3LpS42K9fPda1AglJ7EIifl7lgHL/LhajztGQTZv9VH0iDorLTFrMs1LIBqszxS9pN0MAA==', 'pageNo' : '1', 'numOfRows' : '3', 'entpName' : '', 'itemName' : '', 'itemSeq' : '', 'efcyQesitm' : '', 'useMethodQesitm' : '', 'atpnWarnQesitm' : '', 'atpnQesitm' : '', 'intrcQesitm' : '', 'seQesitm' : '', 'depositMethodQesitm' : '', 'openDe' : '', 'updateDe' : '', 'type' : 'xml' }\n",
        "\n",
        "response = requests.get(url, params=params)\n",
        "print(response.content.decode('UTF-8'))"
      ]
    },
    {
      "cell_type": "code",
      "source": [
        "from bs4 import BeautifulSoup\n",
        "\n",
        "soup = BeautifulSoup(response.content, features = \"xml\")"
      ],
      "metadata": {
        "id": "e4YonnrEMOfq"
      },
      "execution_count": 30,
      "outputs": []
    },
    {
      "cell_type": "code",
      "source": [
        "soup.find_all('itemName')"
      ],
      "metadata": {
        "colab": {
          "base_uri": "https://localhost:8080/"
        },
        "id": "PsD7GhKpMQTY",
        "outputId": "1257d993-6908-48b1-ddef-4191f80c076e"
      },
      "execution_count": 31,
      "outputs": [
        {
          "output_type": "execute_result",
          "data": {
            "text/plain": [
              "[<itemName>활명수</itemName>,\n",
              " <itemName>신신티눈고(살리실산반창고)(수출명:SINSINCORNPLASTER)</itemName>,\n",
              " <itemName>아네모정</itemName>]"
            ]
          },
          "metadata": {},
          "execution_count": 31
        }
      ]
    }
  ]
}